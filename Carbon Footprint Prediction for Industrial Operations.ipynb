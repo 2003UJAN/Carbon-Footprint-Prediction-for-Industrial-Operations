{
  "cells": [
    {
      "cell_type": "markdown",
      "metadata": {
        "id": "view-in-github",
        "colab_type": "text"
      },
      "source": [
        "<a href=\"https://colab.research.google.com/github/2003UJAN/Carbon-Footprint-Prediction-for-Industrial-Operations/blob/main/Carbon%20Footprint%20Prediction%20for%20Industrial%20Operations.ipynb\" target=\"_parent\"><img src=\"https://colab.research.google.com/assets/colab-badge.svg\" alt=\"Open In Colab\"/></a>"
      ]
    },
    {
      "cell_type": "markdown",
      "source": [
        "**Install Dependencies**"
      ],
      "metadata": {
        "id": "RpwZGoVS5gVH"
      }
    },
    {
      "cell_type": "code",
      "source": [
        "!pip install pandas numpy scikit-learn xgboost seaborn matplotlib"
      ],
      "metadata": {
        "id": "7BLxeG6G26Cs",
        "outputId": "57c517da-ec19-445d-df04-5e11edfdfbbb",
        "colab": {
          "base_uri": "https://localhost:8080/"
        }
      },
      "execution_count": 18,
      "outputs": [
        {
          "output_type": "stream",
          "name": "stdout",
          "text": [
            "Requirement already satisfied: pandas in /usr/local/lib/python3.11/dist-packages (2.2.2)\n",
            "Requirement already satisfied: numpy in /usr/local/lib/python3.11/dist-packages (1.26.4)\n",
            "Requirement already satisfied: scikit-learn in /usr/local/lib/python3.11/dist-packages (1.6.1)\n",
            "Requirement already satisfied: xgboost in /usr/local/lib/python3.11/dist-packages (2.1.4)\n",
            "Requirement already satisfied: seaborn in /usr/local/lib/python3.11/dist-packages (0.13.2)\n",
            "Requirement already satisfied: matplotlib in /usr/local/lib/python3.11/dist-packages (3.10.0)\n",
            "Requirement already satisfied: python-dateutil>=2.8.2 in /usr/local/lib/python3.11/dist-packages (from pandas) (2.8.2)\n",
            "Requirement already satisfied: pytz>=2020.1 in /usr/local/lib/python3.11/dist-packages (from pandas) (2025.1)\n",
            "Requirement already satisfied: tzdata>=2022.7 in /usr/local/lib/python3.11/dist-packages (from pandas) (2025.1)\n",
            "Requirement already satisfied: scipy>=1.6.0 in /usr/local/lib/python3.11/dist-packages (from scikit-learn) (1.13.1)\n",
            "Requirement already satisfied: joblib>=1.2.0 in /usr/local/lib/python3.11/dist-packages (from scikit-learn) (1.4.2)\n",
            "Requirement already satisfied: threadpoolctl>=3.1.0 in /usr/local/lib/python3.11/dist-packages (from scikit-learn) (3.5.0)\n",
            "Requirement already satisfied: nvidia-nccl-cu12 in /usr/local/lib/python3.11/dist-packages (from xgboost) (2.21.5)\n",
            "Requirement already satisfied: contourpy>=1.0.1 in /usr/local/lib/python3.11/dist-packages (from matplotlib) (1.3.1)\n",
            "Requirement already satisfied: cycler>=0.10 in /usr/local/lib/python3.11/dist-packages (from matplotlib) (0.12.1)\n",
            "Requirement already satisfied: fonttools>=4.22.0 in /usr/local/lib/python3.11/dist-packages (from matplotlib) (4.56.0)\n",
            "Requirement already satisfied: kiwisolver>=1.3.1 in /usr/local/lib/python3.11/dist-packages (from matplotlib) (1.4.8)\n",
            "Requirement already satisfied: packaging>=20.0 in /usr/local/lib/python3.11/dist-packages (from matplotlib) (24.2)\n",
            "Requirement already satisfied: pillow>=8 in /usr/local/lib/python3.11/dist-packages (from matplotlib) (11.1.0)\n",
            "Requirement already satisfied: pyparsing>=2.3.1 in /usr/local/lib/python3.11/dist-packages (from matplotlib) (3.2.1)\n",
            "Requirement already satisfied: six>=1.5 in /usr/local/lib/python3.11/dist-packages (from python-dateutil>=2.8.2->pandas) (1.17.0)\n"
          ]
        }
      ]
    },
    {
      "cell_type": "markdown",
      "source": [
        "**Import Libraries**"
      ],
      "metadata": {
        "id": "-oCslI2x5RyY"
      }
    },
    {
      "cell_type": "code",
      "source": [
        "import pandas as pd\n",
        "import numpy as np\n",
        "import seaborn as sns\n",
        "import matplotlib.pyplot as plt"
      ],
      "metadata": {
        "id": "xXyK8xF33AQu"
      },
      "execution_count": 19,
      "outputs": []
    },
    {
      "cell_type": "markdown",
      "source": [
        "**Load the dataset**"
      ],
      "metadata": {
        "id": "L79-cGGD5OAK"
      }
    },
    {
      "cell_type": "code",
      "source": [
        "url = \"https://raw.githubusercontent.com/owid/co2-data/master/owid-co2-data.csv\"\n",
        "df = pd.read_csv(url)"
      ],
      "metadata": {
        "id": "-6COspj13DLQ"
      },
      "execution_count": 20,
      "outputs": []
    },
    {
      "cell_type": "markdown",
      "source": [
        "**Display first few rows**"
      ],
      "metadata": {
        "id": "sEekjb2p5KiW"
      }
    },
    {
      "cell_type": "code",
      "source": [
        "print(df.head())"
      ],
      "metadata": {
        "id": "4boJYVWH3H30",
        "outputId": "0b8c113e-59b0-44cc-cd5b-9d3e1a691b1d",
        "colab": {
          "base_uri": "https://localhost:8080/"
        }
      },
      "execution_count": 21,
      "outputs": [
        {
          "output_type": "stream",
          "name": "stdout",
          "text": [
            "       country  year iso_code  population  gdp  cement_co2  \\\n",
            "0  Afghanistan  1750      AFG   2802560.0  NaN         0.0   \n",
            "1  Afghanistan  1751      AFG         NaN  NaN         0.0   \n",
            "2  Afghanistan  1752      AFG         NaN  NaN         0.0   \n",
            "3  Afghanistan  1753      AFG         NaN  NaN         0.0   \n",
            "4  Afghanistan  1754      AFG         NaN  NaN         0.0   \n",
            "\n",
            "   cement_co2_per_capita  co2  co2_growth_abs  co2_growth_prct  ...  \\\n",
            "0                    0.0  NaN             NaN              NaN  ...   \n",
            "1                    NaN  NaN             NaN              NaN  ...   \n",
            "2                    NaN  NaN             NaN              NaN  ...   \n",
            "3                    NaN  NaN             NaN              NaN  ...   \n",
            "4                    NaN  NaN             NaN              NaN  ...   \n",
            "\n",
            "   share_global_other_co2  share_of_temperature_change_from_ghg  \\\n",
            "0                     NaN                                   NaN   \n",
            "1                     NaN                                   NaN   \n",
            "2                     NaN                                   NaN   \n",
            "3                     NaN                                   NaN   \n",
            "4                     NaN                                   NaN   \n",
            "\n",
            "   temperature_change_from_ch4  temperature_change_from_co2  \\\n",
            "0                          NaN                          NaN   \n",
            "1                          NaN                          NaN   \n",
            "2                          NaN                          NaN   \n",
            "3                          NaN                          NaN   \n",
            "4                          NaN                          NaN   \n",
            "\n",
            "   temperature_change_from_ghg  temperature_change_from_n2o  total_ghg  \\\n",
            "0                          NaN                          NaN        NaN   \n",
            "1                          NaN                          NaN        NaN   \n",
            "2                          NaN                          NaN        NaN   \n",
            "3                          NaN                          NaN        NaN   \n",
            "4                          NaN                          NaN        NaN   \n",
            "\n",
            "   total_ghg_excluding_lucf  trade_co2  trade_co2_share  \n",
            "0                       NaN        NaN              NaN  \n",
            "1                       NaN        NaN              NaN  \n",
            "2                       NaN        NaN              NaN  \n",
            "3                       NaN        NaN              NaN  \n",
            "4                       NaN        NaN              NaN  \n",
            "\n",
            "[5 rows x 79 columns]\n"
          ]
        }
      ]
    },
    {
      "cell_type": "markdown",
      "source": [
        "**Check for missing values**"
      ],
      "metadata": {
        "id": "p4PMNeHx5DNY"
      }
    },
    {
      "cell_type": "code",
      "source": [
        "print(df.isnull().sum())"
      ],
      "metadata": {
        "id": "hNYMvtPX5Gmt",
        "outputId": "001a2865-1549-41c5-dc7d-03de8ba2494c",
        "colab": {
          "base_uri": "https://localhost:8080/"
        }
      },
      "execution_count": 22,
      "outputs": [
        {
          "output_type": "stream",
          "name": "stdout",
          "text": [
            "country                            0\n",
            "year                               0\n",
            "iso_code                        7929\n",
            "population                      9172\n",
            "gdp                            34940\n",
            "                               ...  \n",
            "temperature_change_from_n2o    12131\n",
            "total_ghg                      12781\n",
            "total_ghg_excluding_lucf       12955\n",
            "trade_co2                      45656\n",
            "trade_co2_share                45656\n",
            "Length: 79, dtype: int64\n"
          ]
        }
      ]
    },
    {
      "cell_type": "markdown",
      "source": [
        "**Selecting relevant columns for industrial operations**"
      ],
      "metadata": {
        "id": "r8Vt86lw48EO"
      }
    },
    {
      "cell_type": "code",
      "source": [
        "df = df[['country', 'year', 'co2', 'coal_co2', 'oil_co2', 'gas_co2', 'cement_co2', 'flaring_co2', 'other_industry_co2']]\n",
        "df.dropna(inplace=True)"
      ],
      "metadata": {
        "id": "EnmK6djk3KZJ"
      },
      "execution_count": 23,
      "outputs": []
    },
    {
      "cell_type": "markdown",
      "source": [
        "**Feature Engineering**"
      ],
      "metadata": {
        "id": "XJE3JTba4iux"
      }
    },
    {
      "cell_type": "markdown",
      "source": [
        "**Convert categorical 'country' feature to numeric using Label Encoding**"
      ],
      "metadata": {
        "id": "rNWhX8ar4kIS"
      }
    },
    {
      "cell_type": "code",
      "source": [
        "from sklearn.preprocessing import LabelEncoder\n",
        "\n",
        "encoder = LabelEncoder()\n",
        "df['country'] = encoder.fit_transform(df['country'])"
      ],
      "metadata": {
        "id": "iJwUfuSD3Txt"
      },
      "execution_count": 24,
      "outputs": []
    },
    {
      "cell_type": "markdown",
      "source": [
        "**Define features and target variable**"
      ],
      "metadata": {
        "id": "mdHOWWtg4rF_"
      }
    },
    {
      "cell_type": "code",
      "source": [
        "X = df.drop(columns=['co2'])\n",
        "y = df['co2']"
      ],
      "metadata": {
        "id": "CH2mBP_d3co8"
      },
      "execution_count": 25,
      "outputs": []
    },
    {
      "cell_type": "markdown",
      "source": [
        "**Split into training and testing sets**"
      ],
      "metadata": {
        "id": "Zt4BYZK54x_l"
      }
    },
    {
      "cell_type": "code",
      "source": [
        "from sklearn.model_selection import train_test_split\n",
        "\n",
        "X_train, X_test, y_train, y_test = train_test_split(X, y, test_size=0.2, random_state=42)"
      ],
      "metadata": {
        "id": "Sg2LJQQl3f9L"
      },
      "execution_count": 26,
      "outputs": []
    },
    {
      "cell_type": "markdown",
      "source": [
        "**Check dataset shape**"
      ],
      "metadata": {
        "id": "5NMkI1NJ41n2"
      }
    },
    {
      "cell_type": "code",
      "source": [
        "print(\"Train Shape:\", X_train.shape, \"Test Shape:\", X_test.shape)"
      ],
      "metadata": {
        "id": "s3VWEcrK3mY0",
        "outputId": "f994e261-b7d6-4a74-e61e-9aeb3167908b",
        "colab": {
          "base_uri": "https://localhost:8080/"
        }
      },
      "execution_count": 27,
      "outputs": [
        {
          "output_type": "stream",
          "name": "stdout",
          "text": [
            "Train Shape: (2015, 8) Test Shape: (504, 8)\n"
          ]
        }
      ]
    },
    {
      "cell_type": "markdown",
      "source": [
        "**Model Training (XGBoost & Linear Regression)**"
      ],
      "metadata": {
        "id": "Y8XWaJ2w4J-N"
      }
    },
    {
      "cell_type": "code",
      "source": [
        "from sklearn.linear_model import LinearRegression\n",
        "from xgboost import XGBRegressor\n",
        "from sklearn.metrics import mean_absolute_error, mean_squared_error, r2_score"
      ],
      "metadata": {
        "id": "6yeTtMpC3ox8"
      },
      "execution_count": 28,
      "outputs": []
    },
    {
      "cell_type": "markdown",
      "source": [
        "**Train Linear Regression Model**"
      ],
      "metadata": {
        "id": "kd2XFqhs4Nwj"
      }
    },
    {
      "cell_type": "code",
      "source": [
        "lr_model = LinearRegression()\n",
        "lr_model.fit(X_train, y_train)\n",
        "y_pred_lr = lr_model.predict(X_test)"
      ],
      "metadata": {
        "id": "9W68976w3v77"
      },
      "execution_count": 29,
      "outputs": []
    },
    {
      "cell_type": "markdown",
      "source": [
        "**Train XGBoost Model**"
      ],
      "metadata": {
        "id": "cq8fmnxJ4RhW"
      }
    },
    {
      "cell_type": "code",
      "source": [
        "xgb_model = XGBRegressor(n_estimators=100, learning_rate=0.1)\n",
        "xgb_model.fit(X_train, y_train)\n",
        "y_pred_xgb = xgb_model.predict(X_test)"
      ],
      "metadata": {
        "id": "WvsaVDrD3y9e"
      },
      "execution_count": 30,
      "outputs": []
    },
    {
      "cell_type": "markdown",
      "source": [
        "**Model Performance Evaluation**"
      ],
      "metadata": {
        "id": "DNMMrigC4VGo"
      }
    },
    {
      "cell_type": "code",
      "source": [
        "def evaluate_model(y_test, y_pred, model_name):\n",
        "    print(f\"--- {model_name} Model Evaluation ---\")\n",
        "    print(\"Mean Absolute Error:\", mean_absolute_error(y_test, y_pred))\n",
        "    print(\"Mean Squared Error:\", mean_squared_error(y_test, y_pred))\n",
        "    print(\"R2 Score:\", r2_score(y_test, y_pred))\n",
        "    print(\"\\n\")\n",
        "\n",
        "evaluate_model(y_test, y_pred_lr, \"Linear Regression\")\n",
        "evaluate_model(y_test, y_pred_xgb, \"XGBoost\")"
      ],
      "metadata": {
        "id": "yDTh6N7A33JQ",
        "outputId": "3b078249-0e8b-4d4a-cbd1-71d4eec27a6f",
        "colab": {
          "base_uri": "https://localhost:8080/"
        }
      },
      "execution_count": 31,
      "outputs": [
        {
          "output_type": "stream",
          "name": "stdout",
          "text": [
            "--- Linear Regression Model Evaluation ---\n",
            "Mean Absolute Error: 0.006406592531829005\n",
            "Mean Squared Error: 0.0040139373321660884\n",
            "R2 Score: 0.9999999997931546\n",
            "\n",
            "\n",
            "--- XGBoost Model Evaluation ---\n",
            "Mean Absolute Error: 52.18041083467575\n",
            "Mean Squared Error: 31429.68848004655\n",
            "R2 Score: 0.9983803717119373\n",
            "\n",
            "\n"
          ]
        }
      ]
    },
    {
      "cell_type": "markdown",
      "source": [
        "**Visualization**"
      ],
      "metadata": {
        "id": "OL-Hny4p4CPh"
      }
    },
    {
      "cell_type": "code",
      "source": [
        "df_results = pd.DataFrame({\"Actual CO₂\": y_test, \"Predicted CO₂\": y_pred_xgb})\n",
        "df_results.to_csv(\"carbon_footprint_predictions.csv\", index=False)"
      ],
      "metadata": {
        "id": "4B-oeu5_36Tc"
      },
      "execution_count": 32,
      "outputs": []
    }
  ],
  "metadata": {
    "colab": {
      "name": "Welcome To Colab",
      "provenance": [],
      "include_colab_link": true
    },
    "kernelspec": {
      "display_name": "Python 3",
      "name": "python3"
    }
  },
  "nbformat": 4,
  "nbformat_minor": 0
}